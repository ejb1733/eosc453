{
 "cells": [
  {
   "cell_type": "code",
   "execution_count": 18,
   "metadata": {},
   "outputs": [],
   "source": [
    "import numpy as np\n",
    "import matplotlib.pyplot as plt\n",
    "\n",
    "def emissions(yr):\n",
    "    \n",
    "    # Function defining A2 emission scenario over the interval 1990-2100\n",
    "    # extended to pre-industrial (assuming linear increase from 0 in 1850 to 1900) and assuming full cessation of CO_2 input at 2101\n",
    "    #\n",
    "    # Example of use:\n",
    "    #     import numpy as np\n",
    "    #     import matplotlib.pyplot as plt\n",
    "    #     yr = np.arange(0,2500, 10)\n",
    "    #     e = emissions(yr)\n",
    "    #     plt.plot(yr, e)\n",
    "    #     plt.show()\n",
    "    \n",
    "    # For additional information see http://www.grida.no/climate/ipcc/emission    \n",
    "    \n",
    "    t_yr = np.array([0, 1850, 1990, 2000, 2010, 2020, 2030, 2040, 2050, 2060, 2070, 2080, 2090, 2100, 2110, 2120, 10000])\n",
    "    \n",
    "    # CO2 forcing stops at 2100: note that need some zeros close in time to approximate stepwise shutoff with linear interp\n",
    "    \n",
    "    e_GtC_yr = np.array([0, 0,  6.875, 8.125, 9.375, 12.5, 14.375, 16.25, 17.5, 19.75, 21.25, 23.125, 26.25, 28.75, 0, 0, 0])\n",
    "    \n",
    "    e = np.interp(yr, t_yr, e_GtC_yr)\n",
    "    \n",
    "    return e"
   ]
  }
 ],
 "metadata": {
  "kernelspec": {
   "display_name": "Python 3",
   "language": "python",
   "name": "python3"
  },
  "language_info": {
   "codemirror_mode": {
    "name": "ipython",
    "version": 3
   },
   "file_extension": ".py",
   "mimetype": "text/x-python",
   "name": "python",
   "nbconvert_exporter": "python",
   "pygments_lexer": "ipython3",
   "version": "3.10.13"
  }
 },
 "nbformat": 4,
 "nbformat_minor": 2
}

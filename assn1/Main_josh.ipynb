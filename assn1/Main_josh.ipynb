{
  "cells": [
    {
      "cell_type": "code",
      "execution_count": 219,
      "metadata": {
        "id": "wchk20pBY5px"
      },
      "outputs": [],
      "source": [
        "#imports\n",
        "\n",
        "import numpy as np\n",
        "import matplotlib.pyplot as plt"
      ]
    },
    {
      "cell_type": "code",
      "execution_count": 220,
      "metadata": {
        "id": "MAydbPKP6lUM"
      },
      "outputs": [],
      "source": [
        "# global values (initial values)\n",
        "\n",
        "# Define time step and total simulation time\n",
        "dt = 0.01  # Time step (years)\n",
        "T = 100  # Total simulation time (years)\n",
        "n_steps = int(T / dt)  # Number of time steps\n",
        "n_boxes = 9\n",
        "\n",
        "# Initial carbon masses in boxes (in Gt)\n",
        "\"\"\"\n",
        "M1 = 725  # Atmosphere\n",
        "M2 = 725  # Surface Ocean\n",
        "M5 = 110  # Short-lived biota\n",
        "M7 = 60  # Deep Ocean\n",
        "\"\"\"\n",
        "Mi0 = np.array([725,725,0,0,110,0,60,0,0])\n",
        "Mi0_perturbed = np.array([1000,725,0,0,110,0,60,0,0])\n",
        "\n",
        "# Define fluxes (Gt/year)\n",
        "F_12 = 90  # Flux from Atmosphere to Surface Ocean\n",
        "F_21 = 90  # Flux from Surface Ocean to Atmosphere\n",
        "F_71 = 55  # Flux from Deep Ocean to Atmosphere\n",
        "F_57 = 55  # Flux from Short-lived Biota to Deep Ocean\n",
        "F_15 = 110  # Flux from Atmosphere to Short-lived Biota\n",
        "F_51 = 55  # Flux from Short-lived Biota to Atmosphere\n",
        "F_72 = 0  # Flux from Deep Ocean to Surface Ocean\n",
        "\n",
        "Fi0 = np.zeros((n_boxes, n_boxes))\n",
        "Fi0[0,1] = F_12\n",
        "Fi0[1,0] = F_21\n",
        "Fi0[6,0] = F_71\n",
        "Fi0[4,6] = F_57\n",
        "Fi0[0,4] = F_15\n",
        "Fi0[4,0] = F_51\n",
        "Fi0[6,1] = F_72\n",
        "\n",
        "# Define rate constants (k values)\n",
        "def calc_rate_const(Mi0,Fi0):\n",
        "    n_boxes = len(Mi0)\n",
        "\n",
        "    rate_constant = np.zeros((n_boxes, n_boxes))\n",
        "    rate_constant_test = np.zeros((n_boxes, n_boxes))\n",
        "    for c in range(n_boxes):\n",
        "        for r in range(n_boxes):\n",
        "            if (Mi0[r] != 0):\n",
        "              rate_constant[r,c] = Fi0[r,c]/Mi0[r]\n",
        "    return rate_constant\n",
        "\n",
        "rate_constants = calc_rate_const(Mi0=Mi0,Fi0=Fi0)"
      ]
    },
    {
      "cell_type": "code",
      "execution_count": 221,
      "metadata": {
        "id": "dMETlU4-6NhF"
      },
      "outputs": [],
      "source": [
        "# define ODEs\n",
        "FORCING=True\n",
        "sources = [15, 0, 0, 0, -15, 0, 0, 0, 0]\n",
        "\n",
        "def ODEs(t,M):\n",
        "  n = len(M)\n",
        "  ODEs = np.zeros(n)\n",
        "  for r in range(n):\n",
        "      ODEs[r] = -np.sum(M[r]*rate_constants[r,:]) + (rate_constants[:,r] @ M)\n",
        "\n",
        "  if FORCING:\n",
        "    ODEs = ODEs + sources\n",
        "\n",
        "  return ODEs\n",
        "\n",
        "\n",
        "# Euler method\n",
        "# def euler_step(M, dt):\n",
        "#     t=0\n",
        "#     return Mi0 + ODEs(t,M) * dt"
      ]
    },
    {
      "cell_type": "code",
      "execution_count": 222,
      "metadata": {
        "colab": {
          "base_uri": "https://localhost:8080/"
        },
        "id": "I0mWFuBq8bpb",
        "outputId": "7b78aa7d-4fa1-4d63-bd77-ec53026380c1"
      },
      "outputs": [
        {
          "name": "stdout",
          "output_type": "stream",
          "text": [
            "[725 725   0   0 110   0  60   0   0]\n",
            "[[  0.  90.   0.   0. 110.   0.   0.   0.   0.]\n",
            " [ 90.   0.   0.   0.   0.   0.   0.   0.   0.]\n",
            " [  0.   0.   0.   0.   0.   0.   0.   0.   0.]\n",
            " [  0.   0.   0.   0.   0.   0.   0.   0.   0.]\n",
            " [ 55.   0.   0.   0.   0.   0.  55.   0.   0.]\n",
            " [  0.   0.   0.   0.   0.   0.   0.   0.   0.]\n",
            " [ 55.   0.   0.   0.   0.   0.   0.   0.   0.]\n",
            " [  0.   0.   0.   0.   0.   0.   0.   0.   0.]\n",
            " [  0.   0.   0.   0.   0.   0.   0.   0.   0.]]\n"
          ]
        }
      ],
      "source": [
        "print(Mi0)\n",
        "print(Fi0)"
      ]
    },
    {
      "cell_type": "code",
      "execution_count": 223,
      "metadata": {
        "colab": {
          "base_uri": "https://localhost:8080/"
        },
        "id": "4_b37gx16OFh",
        "outputId": "2499d64f-aa93-40a5-c272-b0ff5d80d74f"
      },
      "outputs": [
        {
          "name": "stdout",
          "output_type": "stream",
          "text": [
            "[[0.   0.12 0.   0.   0.15 0.   0.   0.   0.  ]\n",
            " [0.12 0.   0.   0.   0.   0.   0.   0.   0.  ]\n",
            " [0.   0.   0.   0.   0.   0.   0.   0.   0.  ]\n",
            " [0.   0.   0.   0.   0.   0.   0.   0.   0.  ]\n",
            " [0.5  0.   0.   0.   0.   0.   0.5  0.   0.  ]\n",
            " [0.   0.   0.   0.   0.   0.   0.   0.   0.  ]\n",
            " [0.92 0.   0.   0.   0.   0.   0.   0.   0.  ]\n",
            " [0.   0.   0.   0.   0.   0.   0.   0.   0.  ]\n",
            " [0.   0.   0.   0.   0.   0.   0.   0.   0.  ]]\n"
          ]
        }
      ],
      "source": [
        "np.set_printoptions(precision=2, suppress=True)\n",
        "print(calc_rate_const(Mi0,Fi0))"
      ]
    },
    {
      "cell_type": "code",
      "execution_count": 224,
      "metadata": {
        "id": "iOiMBgHzv_of"
      },
      "outputs": [],
      "source": [
        "#Define a function for the 4th order Runge-Kutta integration method and the ODEs to be solved.\n",
        "\n",
        "def rk4(fxy, x0, xf, y0, N):\n",
        "\n",
        "    # The inputs to the function are:\n",
        "    #         fxy = the name of the function containing f(x,y) (e.g. oneode, twoode)\n",
        "    #         xo,xf = initial and final values of the independent variable (integers or floats)\n",
        "    #         yo = initial value of dependent variable at xo (numpy array)\n",
        "    #         N = number of intervals to use between xo and xf (integer)\n",
        "\n",
        "    # The outputs to the function are:\n",
        "    #         X = numpy array containing values of the independent variable\n",
        "    #         Y = the estimated dependent variable at each value of the independent variable\n",
        "    #         --> this variable is a 1D numpy array if only one equation is solved\n",
        "    #         --> it is an M-D numpy array [y1(x) y2(x) ... ] for multiple (M) equations\n",
        "\n",
        "    #compute step size and size of output variables\n",
        "    if N < 2:\n",
        "        N = 2 #set minimum number for N\n",
        "    h = (xf - x0) / N\n",
        "    X = np.zeros((N+1, 1))\n",
        "    M = np.max(np.shape(y0))\n",
        "    Y = np.zeros((N+1, M)) *1j #make complex by multiplying by 1j; this way can add complex values to this during integration\n",
        "\n",
        "    #set initial conditions\n",
        "    x = x0\n",
        "    X[0] = x\n",
        "    y = [complex(val) for val in y0]  #make complex\n",
        "    Y[0,:] = y\n",
        "\n",
        "    #begin computational loop\n",
        "    for ii in range(N):\n",
        "\n",
        "        k1 = np.array([h * val for val in fxy(x,y)]) #evaluate function fxy; depending on equation, k1-4 can be complex; this is why we make Y and y complex as well\n",
        "        k2 = np.array([h * val for val in fxy(x+h/2, y+k1/2)])\n",
        "        k3 = np.array([h * val for val in fxy(x+h/2, y+k2/2)])\n",
        "        k4 = np.array([h * val for val in fxy(x+h, y+k3)])\n",
        "\n",
        "        y += (k1 + 2*k2 + 2*k3 + k4) / 6.\n",
        "        x += h\n",
        "        X[ii+1] = x\n",
        "        Y[ii+1,:] = y\n",
        "\n",
        "    return X, Y\n",
        "\n",
        "\n",
        "    #Constants, Integration time, time steps and initial conditions: This information could be contained in a separate input file that you call\n",
        "\n",
        "\n",
        "#time interval for integration\n",
        "time_min = 0\n",
        "time_max = 10\n",
        "\n",
        "#define a linearly-spaced vector with n points\n",
        "n = 1000\n",
        "timespan = -np.linspace(time_min, time_max, n)\n",
        "\n",
        "#array of initial conditions defined in the function 'oneode.ipynb'\n",
        "y0 = np.array([100.])\n",
        "\n",
        "#array of initial conditions defined in the function 'twoodes.ipynb'\n",
        "yy0 = np.array([100.,100.])"
      ]
    },
    {
      "cell_type": "code",
      "execution_count": 225,
      "metadata": {},
      "outputs": [],
      "source": [
        "def euler_method(fxy, x0, xf, y0, N):\n",
        "\n",
        "    # The inputs to the function are:\n",
        "    #         fxy = the name of the function containing f(x,y) (e.g. oneode, twoode)\n",
        "    #         xo,xf = initial and final values of the independent variable (integers or floats)\n",
        "    #         yo = initial value of dependent variable at xo (numpy array)\n",
        "    #         N = number of intervals to use between xo and xf (integer)\n",
        "\n",
        "    # The outputs to the function are:\n",
        "    #         X = numpy array containing values of the independent variable\n",
        "    #         Y = the estimated dependent variable at each value of the independent variable\n",
        "    #         --> this variable is a 1D numpy array if only one equation is solved\n",
        "    #         --> it is an M-D numpy array [y1(x) y2(x) ... ] for multiple (M) equations\n",
        "\n",
        "    #compute step size and size of output variables\n",
        "    if N < 2:\n",
        "        N = 2 #set minimum number for N\n",
        "    h = (xf - x0) / N\n",
        "    X = np.zeros((N+1, 1))\n",
        "    M = np.max(np.shape(y0))\n",
        "    Y = np.zeros((N+1, M)) *1j #make complex by multiplying by 1j; this way can add complex values to this during integration\n",
        "\n",
        "    #set initial conditions\n",
        "    x = x0\n",
        "    X[0] = x\n",
        "    y = [complex(val) for val in y0]  #make complex\n",
        "    Y[0,:] = y\n",
        "\n",
        "    #begin computational loop\n",
        "    for ii in range(N):\n",
        "\n",
        "        k1 = np.array([h * val for val in fxy(x,y)]) #evaluate function fxy; depending on equation, k1-4 can be complex; this is why we make Y and y \n",
        "\n",
        "        y += (k1)\n",
        "        x += h\n",
        "        X[ii+1] = x\n",
        "        Y[ii+1,:] = y\n",
        "\n",
        "    return X, Y\n",
        "\n",
        "\n",
        "    #Constants, Integration time, time steps and initial conditions: This information could be contained in a separate input file that you call"
      ]
    },
    {
      "cell_type": "markdown",
      "metadata": {},
      "source": [
        "### **Calling RK4 & Euler** ###"
      ]
    },
    {
      "cell_type": "code",
      "execution_count": null,
      "metadata": {},
      "outputs": [],
      "source": [
        "xinitial = 1900\n",
        "xfinal =   2100"
      ]
    },
    {
      "cell_type": "code",
      "execution_count": 227,
      "metadata": {
        "id": "mw21PAZi_Wrn"
      },
      "outputs": [
        {
          "name": "stderr",
          "output_type": "stream",
          "text": [
            "/var/folders/y6/s7pmyb9j2jv_r2sv3b1v67r00000gn/T/ipykernel_17996/170570950.py:9: ComplexWarning: Casting complex values to real discards the imaginary part\n",
            "  ODEs[r] = -np.sum(M[r]*rate_constants[r,:]) + (rate_constants[:,r] @ M)\n"
          ]
        }
      ],
      "source": [
        "rungekutta=rk4(fxy=ODEs,\n",
        "               x0=xinitial,\n",
        "               xf=xfinal,\n",
        "               y0=Mi0_perturbed,\n",
        "               N=50)"
      ]
    },
    {
      "cell_type": "code",
      "execution_count": 228,
      "metadata": {},
      "outputs": [
        {
          "name": "stderr",
          "output_type": "stream",
          "text": [
            "/var/folders/y6/s7pmyb9j2jv_r2sv3b1v67r00000gn/T/ipykernel_17996/170570950.py:9: ComplexWarning: Casting complex values to real discards the imaginary part\n",
            "  ODEs[r] = -np.sum(M[r]*rate_constants[r,:]) + (rate_constants[:,r] @ M)\n"
          ]
        }
      ],
      "source": [
        "testing_euler = euler_method(fxy=ODEs,\n",
        "                            x0=xinitial,\n",
        "                            xf=xfinal,\n",
        "                            y0=Mi0_perturbed,\n",
        "                            N=50)"
      ]
    },
    {
      "cell_type": "code",
      "execution_count": null,
      "metadata": {},
      "outputs": [],
      "source": [
        "plt.plot(rungekutta[0],rungekutta[1])"
      ]
    },
    {
      "cell_type": "code",
      "execution_count": 229,
      "metadata": {},
      "outputs": [
        {
          "data": {
            "text/plain": [
              "[<matplotlib.lines.Line2D at 0x7fcd09d6d300>,\n",
              " <matplotlib.lines.Line2D at 0x7fcd09d6d330>,\n",
              " <matplotlib.lines.Line2D at 0x7fcd09d6d420>,\n",
              " <matplotlib.lines.Line2D at 0x7fcd09d6d510>,\n",
              " <matplotlib.lines.Line2D at 0x7fcd09d6d600>,\n",
              " <matplotlib.lines.Line2D at 0x7fcd09d6d6f0>,\n",
              " <matplotlib.lines.Line2D at 0x7fcd09d6d7e0>,\n",
              " <matplotlib.lines.Line2D at 0x7fcd09d6d8d0>,\n",
              " <matplotlib.lines.Line2D at 0x7fcd09d6d9c0>]"
            ]
          },
          "execution_count": 229,
          "metadata": {},
          "output_type": "execute_result"
        },
        {
          "data": {
            "image/png": "[encoded data removed]",
            "text/plain": [
              "<Figure size 640x480 with 1 Axes>"
            ]
          },
          "metadata": {},
          "output_type": "display_data"
        }
      ],
      "source": [
        "plt.plot(testing_euler[0],testing_euler[1])"
      ]
    },
    {
      "cell_type": "code",
      "execution_count": 232,
      "metadata": {
        "id": "TJymcrSakiTg"
      },
      "outputs": [
        {
          "ename": "NameError",
          "evalue": "name 'M_euler' is not defined",
          "output_type": "error",
          "traceback": [
            "\u001b[0;31m---------------------------------------------------------------------------\u001b[0m",
            "\u001b[0;31mNameError\u001b[0m                                 Traceback (most recent call last)",
            "Cell \u001b[0;32mIn[232], line 4\u001b[0m\n\u001b[1;32m      2\u001b[0m time \u001b[38;5;241m=\u001b[39m np\u001b[38;5;241m.\u001b[39mlinspace(\u001b[38;5;241m0\u001b[39m, T, n_steps)\n\u001b[1;32m      3\u001b[0m plt\u001b[38;5;241m.\u001b[39mfigure(figsize\u001b[38;5;241m=\u001b[39m(\u001b[38;5;241m10\u001b[39m, \u001b[38;5;241m6\u001b[39m))\n\u001b[0;32m----> 4\u001b[0m plt\u001b[38;5;241m.\u001b[39mplot(time, \u001b[43mM_euler\u001b[49m[:, \u001b[38;5;241m0\u001b[39m], label\u001b[38;5;241m=\u001b[39m\u001b[38;5;124m'\u001b[39m\u001b[38;5;124mAtmosphere (Euler)\u001b[39m\u001b[38;5;124m'\u001b[39m, linestyle\u001b[38;5;241m=\u001b[39m\u001b[38;5;124m'\u001b[39m\u001b[38;5;124m--\u001b[39m\u001b[38;5;124m'\u001b[39m)\n\u001b[1;32m      5\u001b[0m plt\u001b[38;5;241m.\u001b[39mplot(time, M_euler[:, \u001b[38;5;241m1\u001b[39m], label\u001b[38;5;241m=\u001b[39m\u001b[38;5;124m'\u001b[39m\u001b[38;5;124mSurface Ocean (Euler)\u001b[39m\u001b[38;5;124m'\u001b[39m, linestyle\u001b[38;5;241m=\u001b[39m\u001b[38;5;124m'\u001b[39m\u001b[38;5;124m--\u001b[39m\u001b[38;5;124m'\u001b[39m)\n\u001b[1;32m      6\u001b[0m plt\u001b[38;5;241m.\u001b[39mplot(time, M_euler[:, \u001b[38;5;241m2\u001b[39m], label\u001b[38;5;241m=\u001b[39m\u001b[38;5;124m'\u001b[39m\u001b[38;5;124mShort-lived Biota (Euler)\u001b[39m\u001b[38;5;124m'\u001b[39m, linestyle\u001b[38;5;241m=\u001b[39m\u001b[38;5;124m'\u001b[39m\u001b[38;5;124m--\u001b[39m\u001b[38;5;124m'\u001b[39m)\n",
            "\u001b[0;31mNameError\u001b[0m: name 'M_euler' is not defined"
          ]
        },
        {
          "data": {
            "text/plain": [
              "<Figure size 1000x600 with 0 Axes>"
            ]
          },
          "metadata": {},
          "output_type": "display_data"
        }
      ],
      "source": [
        "# Plot the results\n",
        "time = np.linspace(0, T, n_steps)\n",
        "plt.figure(figsize=(10, 6))\n",
        "plt.plot(time, M_euler[:, 0], label='Atmosphere (Euler)', linestyle='--')\n",
        "plt.plot(time, M_euler[:, 1], label='Surface Ocean (Euler)', linestyle='--')\n",
        "plt.plot(time, M_euler[:, 2], label='Short-lived Biota (Euler)', linestyle='--')\n",
        "plt.plot(time, M_euler[:, 3], label='Deep Ocean (Euler)', linestyle='--')\n",
        "\n",
        "# plt.plot(time, M_rk4[:, 0], label='Atmosphere (RK4)', linestyle='-')\n",
        "# plt.plot(time, M_rk4[:, 1], label='Surface Ocean (RK4)', linestyle='-')\n",
        "# plt.plot(time, M_rk4[:, 2], label='Short-lived Biota (RK4)', linestyle='-')\n",
        "# plt.plot(time, M_rk4[:, 3], label='Deep Ocean (RK4)', linestyle='-')\n",
        "\n",
        "plt.xlabel('Time (years)')\n",
        "plt.ylabel('Carbon Mass (Gt)')\n",
        "plt.title('Carbon Box Model Simulation')\n",
        "plt.legend()\n",
        "plt.grid(True)\n",
        "plt.show()\n"
      ]
    },
    {
      "cell_type": "code",
      "execution_count": 192,
      "metadata": {
        "id": "7TLdRoFTYON3"
      },
      "outputs": [],
      "source": [
        "def emissions(yr):\n",
        "\n",
        "    # Function defining A2 emission scenario over the interval 1990-2100\n",
        "    # extended to pre-industrial (assuming linear increase from 0 in 1850 to 1900) and assuming full cessation of CO_2 input at 2101\n",
        "    #\n",
        "    # Example of use:\n",
        "    #     import numpy as np\n",
        "    #     import matplotlib.pyplot as plt\n",
        "    #     yr = np.arange(0,2500, 10)\n",
        "    #     e = emissions(yr)\n",
        "    #     plt.plot(yr, e)\n",
        "    #     plt.show()\n",
        "\n",
        "    # For additional information see http://www.grida.no/climate/ipcc/emission\n",
        "\n",
        "    t_yr = np.array([0, 1850, 1990, 2000, 2010, 2020, 2030, 2040, 2050, 2060, 2070, 2080, 2090, 2100, 2110, 2120, 10000])\n",
        "\n",
        "    # CO2 forcing stops at 2100: note that need some zeros close in time to approximate stepwise shutoff with linear interp\n",
        "\n",
        "    e_GtC_yr = np.array([0, 0,  6.875, 8.125, 9.375, 12.5, 14.375, 16.25, 17.5, 19.75, 21.25, 23.125, 26.25, 28.75, 0, 0, 0])\n",
        "\n",
        "    e = np.interp(yr, t_yr, e_GtC_yr)\n",
        "\n",
        "    return e"
      ]
    }
  ],
  "metadata": {
    "colab": {
      "provenance": []
    },
    "kernelspec": {
      "display_name": "Python 3",
      "name": "python3"
    },
    "language_info": {
      "codemirror_mode": {
        "name": "ipython",
        "version": 3
      },
      "file_extension": ".py",
      "mimetype": "text/x-python",
      "name": "python",
      "nbconvert_exporter": "python",
      "pygments_lexer": "ipython3",
      "version": "3.10.13"
    }
  },
  "nbformat": 4,
  "nbformat_minor": 0
}
